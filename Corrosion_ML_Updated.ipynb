{
 "cells": [
  {
   "cell_type": "markdown",
   "metadata": {},
   "source": [
    "Importing libraries"
   ]
  },
  {
   "cell_type": "code",
   "execution_count": 7,
   "metadata": {},
   "outputs": [],
   "source": [
    "import pandas as pd\n",
    "import numpy as np\n",
    "import matplotlib.pyplot as plt \n",
    "import seaborn as sns "
   ]
  },
  {
   "cell_type": "code",
   "execution_count": 8,
   "metadata": {},
   "outputs": [],
   "source": [
    "#Reading data and creating a data frame\n",
    "data=pd.read_excel(\"E:\\\\ML\\\\Conference\\\\Corrosion_data.xlsx\")\n",
    "df=pd.DataFrame(data)\n"
   ]
  },
  {
   "cell_type": "code",
   "execution_count": 9,
   "metadata": {},
   "outputs": [
    {
     "data": {
      "text/html": [
       "<div>\n",
       "<style scoped>\n",
       "    .dataframe tbody tr th:only-of-type {\n",
       "        vertical-align: middle;\n",
       "    }\n",
       "\n",
       "    .dataframe tbody tr th {\n",
       "        vertical-align: top;\n",
       "    }\n",
       "\n",
       "    .dataframe thead th {\n",
       "        text-align: right;\n",
       "    }\n",
       "</style>\n",
       "<table border=\"1\" class=\"dataframe\">\n",
       "  <thead>\n",
       "    <tr style=\"text-align: right;\">\n",
       "      <th></th>\n",
       "      <th>Serial_Number</th>\n",
       "      <th>Concentration_of_acid</th>\n",
       "      <th>Time(h)</th>\n",
       "      <th>Inhibitor_concentration</th>\n",
       "      <th>Temperature</th>\n",
       "      <th>Corrosion_rate</th>\n",
       "      <th>Inhibition_Efficiency (%)</th>\n",
       "    </tr>\n",
       "  </thead>\n",
       "  <tbody>\n",
       "    <tr>\n",
       "      <th>0</th>\n",
       "      <td>1</td>\n",
       "      <td>1.1</td>\n",
       "      <td>6</td>\n",
       "      <td>0.1</td>\n",
       "      <td>302</td>\n",
       "      <td>5.56</td>\n",
       "      <td>48.72</td>\n",
       "    </tr>\n",
       "    <tr>\n",
       "      <th>1</th>\n",
       "      <td>2</td>\n",
       "      <td>1.1</td>\n",
       "      <td>6</td>\n",
       "      <td>0.5</td>\n",
       "      <td>302</td>\n",
       "      <td>4.87</td>\n",
       "      <td>55.13</td>\n",
       "    </tr>\n",
       "    <tr>\n",
       "      <th>2</th>\n",
       "      <td>3</td>\n",
       "      <td>1.1</td>\n",
       "      <td>6</td>\n",
       "      <td>0.7</td>\n",
       "      <td>302</td>\n",
       "      <td>4.17</td>\n",
       "      <td>61.54</td>\n",
       "    </tr>\n",
       "    <tr>\n",
       "      <th>3</th>\n",
       "      <td>4</td>\n",
       "      <td>1.1</td>\n",
       "      <td>6</td>\n",
       "      <td>1.0</td>\n",
       "      <td>302</td>\n",
       "      <td>3.20</td>\n",
       "      <td>70.52</td>\n",
       "    </tr>\n",
       "    <tr>\n",
       "      <th>4</th>\n",
       "      <td>5</td>\n",
       "      <td>1.1</td>\n",
       "      <td>6</td>\n",
       "      <td>1.3</td>\n",
       "      <td>302</td>\n",
       "      <td>2.22</td>\n",
       "      <td>79.40</td>\n",
       "    </tr>\n",
       "    <tr>\n",
       "      <th>...</th>\n",
       "      <td>...</td>\n",
       "      <td>...</td>\n",
       "      <td>...</td>\n",
       "      <td>...</td>\n",
       "      <td>...</td>\n",
       "      <td>...</td>\n",
       "      <td>...</td>\n",
       "    </tr>\n",
       "    <tr>\n",
       "      <th>130</th>\n",
       "      <td>131</td>\n",
       "      <td>0.4</td>\n",
       "      <td>18</td>\n",
       "      <td>0.1</td>\n",
       "      <td>322</td>\n",
       "      <td>1.99</td>\n",
       "      <td>49.41</td>\n",
       "    </tr>\n",
       "    <tr>\n",
       "      <th>131</th>\n",
       "      <td>132</td>\n",
       "      <td>0.4</td>\n",
       "      <td>18</td>\n",
       "      <td>0.5</td>\n",
       "      <td>322</td>\n",
       "      <td>1.81</td>\n",
       "      <td>54.12</td>\n",
       "    </tr>\n",
       "    <tr>\n",
       "      <th>132</th>\n",
       "      <td>133</td>\n",
       "      <td>0.4</td>\n",
       "      <td>18</td>\n",
       "      <td>0.7</td>\n",
       "      <td>322</td>\n",
       "      <td>1.62</td>\n",
       "      <td>58.82</td>\n",
       "    </tr>\n",
       "    <tr>\n",
       "      <th>133</th>\n",
       "      <td>134</td>\n",
       "      <td>0.4</td>\n",
       "      <td>18</td>\n",
       "      <td>1.0</td>\n",
       "      <td>322</td>\n",
       "      <td>0.85</td>\n",
       "      <td>67.06</td>\n",
       "    </tr>\n",
       "    <tr>\n",
       "      <th>134</th>\n",
       "      <td>135</td>\n",
       "      <td>0.4</td>\n",
       "      <td>18</td>\n",
       "      <td>1.3</td>\n",
       "      <td>322</td>\n",
       "      <td>0.97</td>\n",
       "      <td>75.29</td>\n",
       "    </tr>\n",
       "  </tbody>\n",
       "</table>\n",
       "<p>135 rows × 7 columns</p>\n",
       "</div>"
      ],
      "text/plain": [
       "     Serial_Number  Concentration_of_acid  Time(h)  Inhibitor_concentration  \\\n",
       "0                1                    1.1        6                      0.1   \n",
       "1                2                    1.1        6                      0.5   \n",
       "2                3                    1.1        6                      0.7   \n",
       "3                4                    1.1        6                      1.0   \n",
       "4                5                    1.1        6                      1.3   \n",
       "..             ...                    ...      ...                      ...   \n",
       "130            131                    0.4       18                      0.1   \n",
       "131            132                    0.4       18                      0.5   \n",
       "132            133                    0.4       18                      0.7   \n",
       "133            134                    0.4       18                      1.0   \n",
       "134            135                    0.4       18                      1.3   \n",
       "\n",
       "     Temperature  Corrosion_rate  Inhibition_Efficiency (%)  \n",
       "0            302            5.56                      48.72  \n",
       "1            302            4.87                      55.13  \n",
       "2            302            4.17                      61.54  \n",
       "3            302            3.20                      70.52  \n",
       "4            302            2.22                      79.40  \n",
       "..           ...             ...                        ...  \n",
       "130          322            1.99                      49.41  \n",
       "131          322            1.81                      54.12  \n",
       "132          322            1.62                      58.82  \n",
       "133          322            0.85                      67.06  \n",
       "134          322            0.97                      75.29  \n",
       "\n",
       "[135 rows x 7 columns]"
      ]
     },
     "execution_count": 9,
     "metadata": {},
     "output_type": "execute_result"
    }
   ],
   "source": [
    "df"
   ]
  },
  {
   "cell_type": "code",
   "execution_count": 10,
   "metadata": {},
   "outputs": [
    {
     "data": {
      "text/html": [
       "<div>\n",
       "<style scoped>\n",
       "    .dataframe tbody tr th:only-of-type {\n",
       "        vertical-align: middle;\n",
       "    }\n",
       "\n",
       "    .dataframe tbody tr th {\n",
       "        vertical-align: top;\n",
       "    }\n",
       "\n",
       "    .dataframe thead th {\n",
       "        text-align: right;\n",
       "    }\n",
       "</style>\n",
       "<table border=\"1\" class=\"dataframe\">\n",
       "  <thead>\n",
       "    <tr style=\"text-align: right;\">\n",
       "      <th></th>\n",
       "      <th>Concentration_of_acid</th>\n",
       "      <th>Time(h)</th>\n",
       "      <th>Inhibitor_concentration</th>\n",
       "      <th>Temperature</th>\n",
       "      <th>Corrosion_rate</th>\n",
       "      <th>Inhibition_Efficiency (%)</th>\n",
       "    </tr>\n",
       "  </thead>\n",
       "  <tbody>\n",
       "    <tr>\n",
       "      <th>0</th>\n",
       "      <td>1.1</td>\n",
       "      <td>6</td>\n",
       "      <td>0.1</td>\n",
       "      <td>302</td>\n",
       "      <td>5.56</td>\n",
       "      <td>48.72</td>\n",
       "    </tr>\n",
       "    <tr>\n",
       "      <th>1</th>\n",
       "      <td>1.1</td>\n",
       "      <td>6</td>\n",
       "      <td>0.5</td>\n",
       "      <td>302</td>\n",
       "      <td>4.87</td>\n",
       "      <td>55.13</td>\n",
       "    </tr>\n",
       "    <tr>\n",
       "      <th>2</th>\n",
       "      <td>1.1</td>\n",
       "      <td>6</td>\n",
       "      <td>0.7</td>\n",
       "      <td>302</td>\n",
       "      <td>4.17</td>\n",
       "      <td>61.54</td>\n",
       "    </tr>\n",
       "    <tr>\n",
       "      <th>3</th>\n",
       "      <td>1.1</td>\n",
       "      <td>6</td>\n",
       "      <td>1.0</td>\n",
       "      <td>302</td>\n",
       "      <td>3.20</td>\n",
       "      <td>70.52</td>\n",
       "    </tr>\n",
       "    <tr>\n",
       "      <th>4</th>\n",
       "      <td>1.1</td>\n",
       "      <td>6</td>\n",
       "      <td>1.3</td>\n",
       "      <td>302</td>\n",
       "      <td>2.22</td>\n",
       "      <td>79.40</td>\n",
       "    </tr>\n",
       "  </tbody>\n",
       "</table>\n",
       "</div>"
      ],
      "text/plain": [
       "   Concentration_of_acid  Time(h)  Inhibitor_concentration  Temperature  \\\n",
       "0                    1.1        6                      0.1          302   \n",
       "1                    1.1        6                      0.5          302   \n",
       "2                    1.1        6                      0.7          302   \n",
       "3                    1.1        6                      1.0          302   \n",
       "4                    1.1        6                      1.3          302   \n",
       "\n",
       "   Corrosion_rate  Inhibition_Efficiency (%)  \n",
       "0            5.56                      48.72  \n",
       "1            4.87                      55.13  \n",
       "2            4.17                      61.54  \n",
       "3            3.20                      70.52  \n",
       "4            2.22                      79.40  "
      ]
     },
     "execution_count": 10,
     "metadata": {},
     "output_type": "execute_result"
    }
   ],
   "source": [
    "#Dropping Serial_Number feature as it is no need to consider into our model training. \n",
    "data1=df.drop(columns=[\"Serial_Number\"])\n",
    "data1.head()"
   ]
  },
  {
   "cell_type": "code",
   "execution_count": 11,
   "metadata": {},
   "outputs": [
    {
     "name": "stdout",
     "output_type": "stream",
     "text": [
      "<class 'pandas.core.frame.DataFrame'>\n",
      "RangeIndex: 135 entries, 0 to 134\n",
      "Data columns (total 6 columns):\n",
      " #   Column                     Non-Null Count  Dtype  \n",
      "---  ------                     --------------  -----  \n",
      " 0   Concentration_of_acid      135 non-null    float64\n",
      " 1   Time(h)                    135 non-null    int64  \n",
      " 2   Inhibitor_concentration    135 non-null    float64\n",
      " 3   Temperature                135 non-null    int64  \n",
      " 4   Corrosion_rate             135 non-null    float64\n",
      " 5   Inhibition_Efficiency (%)  135 non-null    float64\n",
      "dtypes: float64(4), int64(2)\n",
      "memory usage: 6.5 KB\n"
     ]
    }
   ],
   "source": [
    "data1.info()"
   ]
  },
  {
   "cell_type": "code",
   "execution_count": 12,
   "metadata": {},
   "outputs": [
    {
     "data": {
      "text/html": [
       "<div>\n",
       "<style scoped>\n",
       "    .dataframe tbody tr th:only-of-type {\n",
       "        vertical-align: middle;\n",
       "    }\n",
       "\n",
       "    .dataframe tbody tr th {\n",
       "        vertical-align: top;\n",
       "    }\n",
       "\n",
       "    .dataframe thead th {\n",
       "        text-align: right;\n",
       "    }\n",
       "</style>\n",
       "<table border=\"1\" class=\"dataframe\">\n",
       "  <thead>\n",
       "    <tr style=\"text-align: right;\">\n",
       "      <th></th>\n",
       "      <th>Concentration_of_acid</th>\n",
       "      <th>Time(h)</th>\n",
       "      <th>Inhibitor_concentration</th>\n",
       "      <th>Temperature</th>\n",
       "      <th>Corrosion_rate</th>\n",
       "      <th>Inhibition_Efficiency (%)</th>\n",
       "    </tr>\n",
       "  </thead>\n",
       "  <tbody>\n",
       "    <tr>\n",
       "      <th>Total</th>\n",
       "      <td>0.0</td>\n",
       "      <td>0.0</td>\n",
       "      <td>0.0</td>\n",
       "      <td>0.0</td>\n",
       "      <td>0.0</td>\n",
       "      <td>0.0</td>\n",
       "    </tr>\n",
       "    <tr>\n",
       "      <th>Percent</th>\n",
       "      <td>0.0</td>\n",
       "      <td>0.0</td>\n",
       "      <td>0.0</td>\n",
       "      <td>0.0</td>\n",
       "      <td>0.0</td>\n",
       "      <td>0.0</td>\n",
       "    </tr>\n",
       "  </tbody>\n",
       "</table>\n",
       "</div>"
      ],
      "text/plain": [
       "         Concentration_of_acid  Time(h)  Inhibitor_concentration  Temperature  \\\n",
       "Total                      0.0      0.0                      0.0          0.0   \n",
       "Percent                    0.0      0.0                      0.0          0.0   \n",
       "\n",
       "         Corrosion_rate  Inhibition_Efficiency (%)  \n",
       "Total               0.0                        0.0  \n",
       "Percent             0.0                        0.0  "
      ]
     },
     "execution_count": 12,
     "metadata": {},
     "output_type": "execute_result"
    }
   ],
   "source": [
    "total = data1.isnull().sum().sort_values(ascending = False)\n",
    "percent = (data1.isnull().sum()/data1.isnull().count()*100).sort_values(ascending = False)\n",
    "pd.concat([total, percent], axis=1, keys=['Total', 'Percent']).transpose()"
   ]
  },
  {
   "cell_type": "markdown",
   "metadata": {},
   "source": [
    "There are no null values in all the features."
   ]
  },
  {
   "cell_type": "code",
   "execution_count": 13,
   "metadata": {},
   "outputs": [
    {
     "data": {
      "text/html": [
       "<div>\n",
       "<style scoped>\n",
       "    .dataframe tbody tr th:only-of-type {\n",
       "        vertical-align: middle;\n",
       "    }\n",
       "\n",
       "    .dataframe tbody tr th {\n",
       "        vertical-align: top;\n",
       "    }\n",
       "\n",
       "    .dataframe thead th {\n",
       "        text-align: right;\n",
       "    }\n",
       "</style>\n",
       "<table border=\"1\" class=\"dataframe\">\n",
       "  <thead>\n",
       "    <tr style=\"text-align: right;\">\n",
       "      <th></th>\n",
       "      <th>count</th>\n",
       "      <th>mean</th>\n",
       "      <th>std</th>\n",
       "      <th>min</th>\n",
       "      <th>25%</th>\n",
       "      <th>50%</th>\n",
       "      <th>75%</th>\n",
       "      <th>max</th>\n",
       "    </tr>\n",
       "  </thead>\n",
       "  <tbody>\n",
       "    <tr>\n",
       "      <th>Concentration_of_acid</th>\n",
       "      <td>135.0</td>\n",
       "      <td>0.750000</td>\n",
       "      <td>0.286838</td>\n",
       "      <td>0.40</td>\n",
       "      <td>0.40</td>\n",
       "      <td>0.75</td>\n",
       "      <td>1.100</td>\n",
       "      <td>1.10</td>\n",
       "    </tr>\n",
       "    <tr>\n",
       "      <th>Time(h)</th>\n",
       "      <td>135.0</td>\n",
       "      <td>12.000000</td>\n",
       "      <td>4.917225</td>\n",
       "      <td>6.00</td>\n",
       "      <td>6.00</td>\n",
       "      <td>12.00</td>\n",
       "      <td>18.000</td>\n",
       "      <td>18.00</td>\n",
       "    </tr>\n",
       "    <tr>\n",
       "      <th>Inhibitor_concentration</th>\n",
       "      <td>135.0</td>\n",
       "      <td>0.720000</td>\n",
       "      <td>0.413359</td>\n",
       "      <td>0.10</td>\n",
       "      <td>0.50</td>\n",
       "      <td>0.70</td>\n",
       "      <td>1.000</td>\n",
       "      <td>1.30</td>\n",
       "    </tr>\n",
       "    <tr>\n",
       "      <th>Temperature</th>\n",
       "      <td>135.0</td>\n",
       "      <td>312.000000</td>\n",
       "      <td>8.195375</td>\n",
       "      <td>302.00</td>\n",
       "      <td>302.00</td>\n",
       "      <td>312.00</td>\n",
       "      <td>322.000</td>\n",
       "      <td>322.00</td>\n",
       "    </tr>\n",
       "    <tr>\n",
       "      <th>Corrosion_rate</th>\n",
       "      <td>135.0</td>\n",
       "      <td>2.448593</td>\n",
       "      <td>1.309119</td>\n",
       "      <td>0.10</td>\n",
       "      <td>1.52</td>\n",
       "      <td>2.08</td>\n",
       "      <td>3.125</td>\n",
       "      <td>6.53</td>\n",
       "    </tr>\n",
       "    <tr>\n",
       "      <th>Inhibition_Efficiency (%)</th>\n",
       "      <td>135.0</td>\n",
       "      <td>63.028889</td>\n",
       "      <td>10.879569</td>\n",
       "      <td>40.32</td>\n",
       "      <td>54.66</td>\n",
       "      <td>61.54</td>\n",
       "      <td>72.175</td>\n",
       "      <td>84.15</td>\n",
       "    </tr>\n",
       "  </tbody>\n",
       "</table>\n",
       "</div>"
      ],
      "text/plain": [
       "                           count        mean        std     min     25%  \\\n",
       "Concentration_of_acid      135.0    0.750000   0.286838    0.40    0.40   \n",
       "Time(h)                    135.0   12.000000   4.917225    6.00    6.00   \n",
       "Inhibitor_concentration    135.0    0.720000   0.413359    0.10    0.50   \n",
       "Temperature                135.0  312.000000   8.195375  302.00  302.00   \n",
       "Corrosion_rate             135.0    2.448593   1.309119    0.10    1.52   \n",
       "Inhibition_Efficiency (%)  135.0   63.028889  10.879569   40.32   54.66   \n",
       "\n",
       "                              50%      75%     max  \n",
       "Concentration_of_acid        0.75    1.100    1.10  \n",
       "Time(h)                     12.00   18.000   18.00  \n",
       "Inhibitor_concentration      0.70    1.000    1.30  \n",
       "Temperature                312.00  322.000  322.00  \n",
       "Corrosion_rate               2.08    3.125    6.53  \n",
       "Inhibition_Efficiency (%)   61.54   72.175   84.15  "
      ]
     },
     "execution_count": 13,
     "metadata": {},
     "output_type": "execute_result"
    }
   ],
   "source": [
    "# Description about the data\n",
    "data1.describe().T"
   ]
  },
  {
   "cell_type": "markdown",
   "metadata": {},
   "source": [
    "Average value of Inhibtor efficiency of 63% with a standard deviation of 10.87%. Average inhibitor concentration belongs to 0.72. "
   ]
  },
  {
   "cell_type": "code",
   "execution_count": 14,
   "metadata": {},
   "outputs": [
    {
     "data": {
      "text/html": [
       "<div>\n",
       "<style scoped>\n",
       "    .dataframe tbody tr th:only-of-type {\n",
       "        vertical-align: middle;\n",
       "    }\n",
       "\n",
       "    .dataframe tbody tr th {\n",
       "        vertical-align: top;\n",
       "    }\n",
       "\n",
       "    .dataframe thead th {\n",
       "        text-align: right;\n",
       "    }\n",
       "</style>\n",
       "<table border=\"1\" class=\"dataframe\">\n",
       "  <thead>\n",
       "    <tr style=\"text-align: right;\">\n",
       "      <th></th>\n",
       "      <th>Concentration_of_acid</th>\n",
       "      <th>Time(h)</th>\n",
       "      <th>Inhibitor_concentration</th>\n",
       "      <th>Temperature</th>\n",
       "      <th>Corrosion_rate</th>\n",
       "      <th>Inhibition_Efficiency (%)</th>\n",
       "    </tr>\n",
       "  </thead>\n",
       "  <tbody>\n",
       "    <tr>\n",
       "      <th>Concentration_of_acid</th>\n",
       "      <td>1.000000e+00</td>\n",
       "      <td>1.644775e-17</td>\n",
       "      <td>-3.598722e-16</td>\n",
       "      <td>-4.615708e-15</td>\n",
       "      <td>0.126039</td>\n",
       "      <td>0.019636</td>\n",
       "    </tr>\n",
       "    <tr>\n",
       "      <th>Time(h)</th>\n",
       "      <td>1.644775e-17</td>\n",
       "      <td>1.000000e+00</td>\n",
       "      <td>6.358908e-17</td>\n",
       "      <td>8.368614e-16</td>\n",
       "      <td>-0.752200</td>\n",
       "      <td>0.103074</td>\n",
       "    </tr>\n",
       "    <tr>\n",
       "      <th>Inhibitor_concentration</th>\n",
       "      <td>-3.598722e-16</td>\n",
       "      <td>6.358908e-17</td>\n",
       "      <td>1.000000e+00</td>\n",
       "      <td>4.617545e-16</td>\n",
       "      <td>-0.530575</td>\n",
       "      <td>0.952515</td>\n",
       "    </tr>\n",
       "    <tr>\n",
       "      <th>Temperature</th>\n",
       "      <td>-4.615708e-15</td>\n",
       "      <td>8.368614e-16</td>\n",
       "      <td>4.617545e-16</td>\n",
       "      <td>1.000000e+00</td>\n",
       "      <td>0.123326</td>\n",
       "      <td>-0.130334</td>\n",
       "    </tr>\n",
       "    <tr>\n",
       "      <th>Corrosion_rate</th>\n",
       "      <td>1.260391e-01</td>\n",
       "      <td>-7.522004e-01</td>\n",
       "      <td>-5.305752e-01</td>\n",
       "      <td>1.233264e-01</td>\n",
       "      <td>1.000000</td>\n",
       "      <td>-0.640995</td>\n",
       "    </tr>\n",
       "    <tr>\n",
       "      <th>Inhibition_Efficiency (%)</th>\n",
       "      <td>1.963553e-02</td>\n",
       "      <td>1.030740e-01</td>\n",
       "      <td>9.525149e-01</td>\n",
       "      <td>-1.303344e-01</td>\n",
       "      <td>-0.640995</td>\n",
       "      <td>1.000000</td>\n",
       "    </tr>\n",
       "  </tbody>\n",
       "</table>\n",
       "</div>"
      ],
      "text/plain": [
       "                           Concentration_of_acid       Time(h)  \\\n",
       "Concentration_of_acid               1.000000e+00  1.644775e-17   \n",
       "Time(h)                             1.644775e-17  1.000000e+00   \n",
       "Inhibitor_concentration            -3.598722e-16  6.358908e-17   \n",
       "Temperature                        -4.615708e-15  8.368614e-16   \n",
       "Corrosion_rate                      1.260391e-01 -7.522004e-01   \n",
       "Inhibition_Efficiency (%)           1.963553e-02  1.030740e-01   \n",
       "\n",
       "                           Inhibitor_concentration   Temperature  \\\n",
       "Concentration_of_acid                -3.598722e-16 -4.615708e-15   \n",
       "Time(h)                               6.358908e-17  8.368614e-16   \n",
       "Inhibitor_concentration               1.000000e+00  4.617545e-16   \n",
       "Temperature                           4.617545e-16  1.000000e+00   \n",
       "Corrosion_rate                       -5.305752e-01  1.233264e-01   \n",
       "Inhibition_Efficiency (%)             9.525149e-01 -1.303344e-01   \n",
       "\n",
       "                           Corrosion_rate  Inhibition_Efficiency (%)  \n",
       "Concentration_of_acid            0.126039                   0.019636  \n",
       "Time(h)                         -0.752200                   0.103074  \n",
       "Inhibitor_concentration         -0.530575                   0.952515  \n",
       "Temperature                      0.123326                  -0.130334  \n",
       "Corrosion_rate                   1.000000                  -0.640995  \n",
       "Inhibition_Efficiency (%)       -0.640995                   1.000000  "
      ]
     },
     "execution_count": 14,
     "metadata": {},
     "output_type": "execute_result"
    }
   ],
   "source": [
    "# Correlation of all features\n",
    "data1.corr()"
   ]
  },
  {
   "cell_type": "markdown",
   "metadata": {},
   "source": [
    "From the above correlations, we can observe that \n",
    "        Conc. of acid has week correlation with corrosion rate and inhibition efficiency.\n",
    "        Time has negative correlation with corrosion rate and week correlation with inhibition efficiency.\n",
    "        inhibitor concentration has a strong positive correlation with inhibtor efficiecy and moderate negative correlation with corrosion rate.\n",
    "\n",
    " Summary: The strongest correlation is between Inhibitor_concentration and Inhibition_Efficiency (%), indicating a significant positive relationship.\n",
    "    Time(h) has a strong negative correlation with Corrosion_rate, suggesting that as time increases, corrosion rate decreases. Corrosion_rate has a negative correlation with Inhibitor_concentration and Inhibition_Efficiency (%), suggesting that higher inhibitor concentrations and efficiency lead to lower corrosion rates.  Temperature has a weak influence on the variables in this dataset.       \n",
    "\n"
   ]
  },
  {
   "cell_type": "code",
   "execution_count": 15,
   "metadata": {},
   "outputs": [
    {
     "data": {
      "image/png": "[encoded data removed]",
      "text/plain": [
       "<Figure size 1000x600 with 1 Axes>"
      ]
     },
     "metadata": {},
     "output_type": "display_data"
    }
   ],
   "source": [
    "\n",
    "# Create a box plot\n",
    "plt.figure(figsize=(10, 6))\n",
    "sns.boxplot(x='Inhibitor_concentration', y='Corrosion_rate', hue='Concentration_of_acid', data=df)\n",
    "\n",
    "# Customize the plot\n",
    "plt.title('Box Plot: Inhibitor Concentration vs Corrosion rate (Grouped by Concentration of acid)')\n",
    "plt.xlabel('Inhibitor Concentration')\n",
    "plt.ylabel('Corrosion rate')\n",
    "plt.legend(title='Concentration of acid')\n",
    "\n",
    "# Show the plot\n",
    "plt.show()\n"
   ]
  },
  {
   "cell_type": "code",
   "execution_count": 16,
   "metadata": {},
   "outputs": [
    {
     "data": {
      "image/png": "[encoded data removed]",
      "text/plain": [
       "<Figure size 1000x600 with 1 Axes>"
      ]
     },
     "metadata": {},
     "output_type": "display_data"
    }
   ],
   "source": [
    "# Create a box plot\n",
    "plt.figure(figsize=(10, 6))\n",
    "sns.boxplot(x='Inhibitor_concentration', y='Inhibition_Efficiency (%)', hue='Concentration_of_acid', data=df)\n",
    "\n",
    "# Customize the plot\n",
    "plt.title('Box Plot: Inhibitor Concentration vs Corrosion rate (Grouped by Concentration of acid)')\n",
    "plt.xlabel('Inhibitor Concentration')\n",
    "plt.ylabel('Inhibition_Efficiency (%)')\n",
    "plt.legend(title='Concentration of acid')\n",
    "\n",
    "# Show the plot\n",
    "plt.show()"
   ]
  },
  {
   "cell_type": "code",
   "execution_count": 61,
   "metadata": {},
   "outputs": [
    {
     "name": "stdout",
     "output_type": "stream",
     "text": [
      "y_ target features are:\n"
     ]
    },
    {
     "data": {
      "text/html": [
       "<div>\n",
       "<style scoped>\n",
       "    .dataframe tbody tr th:only-of-type {\n",
       "        vertical-align: middle;\n",
       "    }\n",
       "\n",
       "    .dataframe tbody tr th {\n",
       "        vertical-align: top;\n",
       "    }\n",
       "\n",
       "    .dataframe thead th {\n",
       "        text-align: right;\n",
       "    }\n",
       "</style>\n",
       "<table border=\"1\" class=\"dataframe\">\n",
       "  <thead>\n",
       "    <tr style=\"text-align: right;\">\n",
       "      <th></th>\n",
       "      <th>Corrosion_rate</th>\n",
       "      <th>Inhibition_Efficiency (%)</th>\n",
       "    </tr>\n",
       "  </thead>\n",
       "  <tbody>\n",
       "    <tr>\n",
       "      <th>0</th>\n",
       "      <td>5.56</td>\n",
       "      <td>48.72</td>\n",
       "    </tr>\n",
       "    <tr>\n",
       "      <th>1</th>\n",
       "      <td>4.87</td>\n",
       "      <td>55.13</td>\n",
       "    </tr>\n",
       "    <tr>\n",
       "      <th>2</th>\n",
       "      <td>4.17</td>\n",
       "      <td>61.54</td>\n",
       "    </tr>\n",
       "    <tr>\n",
       "      <th>3</th>\n",
       "      <td>3.20</td>\n",
       "      <td>70.52</td>\n",
       "    </tr>\n",
       "    <tr>\n",
       "      <th>4</th>\n",
       "      <td>2.22</td>\n",
       "      <td>79.40</td>\n",
       "    </tr>\n",
       "  </tbody>\n",
       "</table>\n",
       "</div>"
      ],
      "text/plain": [
       "   Corrosion_rate  Inhibition_Efficiency (%)\n",
       "0            5.56                      48.72\n",
       "1            4.87                      55.13\n",
       "2            4.17                      61.54\n",
       "3            3.20                      70.52\n",
       "4            2.22                      79.40"
      ]
     },
     "execution_count": 61,
     "metadata": {},
     "output_type": "execute_result"
    }
   ],
   "source": [
    "# Separate the dataset into target and input features\n",
    "target=data1.iloc[:,4:]\n",
    "features=data1.iloc[:,:4]\n",
    "X=features\n",
    "y=target\n",
    "\n",
    "print(\"y_ target features are:\")\n",
    "y.head()\n"
   ]
  },
  {
   "cell_type": "markdown",
   "metadata": {},
   "source": [
    "Model_Training"
   ]
  },
  {
   "cell_type": "code",
   "execution_count": 62,
   "metadata": {},
   "outputs": [],
   "source": [
    "# Importing all the required libraries for model training and model evaluation\n",
    "\n",
    "\n",
    "from sklearn.model_selection import train_test_split,GridSearchCV\n",
    "from sklearn.linear_model import Ridge, Lasso\n",
    "from sklearn.ensemble import RandomForestRegressor\n",
    "from sklearn.tree import DecisionTreeRegressor\n",
    "from sklearn.preprocessing import PolynomialFeatures\n",
    "from sklearn.pipeline import make_pipeline\n",
    "from sklearn.metrics import mean_squared_error,r2_score\n"
   ]
  },
  {
   "cell_type": "code",
   "execution_count": 51,
   "metadata": {},
   "outputs": [],
   "source": [
    "# Split the data into training and testing sets\n",
    "X_train, X_test, y_train, y_test = train_test_split(X, y, test_size=0.33, random_state=42)"
   ]
  },
  {
   "cell_type": "code",
   "execution_count": 40,
   "metadata": {},
   "outputs": [
    {
     "name": "stderr",
     "output_type": "stream",
     "text": [
      "c:\\Users\\USER\\anaconda3\\Lib\\site-packages\\sklearn\\linear_model\\_coordinate_descent.py:628: ConvergenceWarning: Objective did not converge. You might want to increase the number of iterations, check the scale of the features or consider increasing regularisation. Duality gap: 1.251e+00, tolerance: 1.325e-02\n",
      "  model = cd_fast.enet_coordinate_descent(\n",
      "c:\\Users\\USER\\anaconda3\\Lib\\site-packages\\sklearn\\linear_model\\_coordinate_descent.py:628: ConvergenceWarning: Objective did not converge. You might want to increase the number of iterations, check the scale of the features or consider increasing regularisation. Duality gap: 8.499e+01, tolerance: 8.535e-01\n",
      "  model = cd_fast.enet_coordinate_descent(\n",
      "c:\\Users\\USER\\anaconda3\\Lib\\site-packages\\sklearn\\linear_model\\_coordinate_descent.py:628: ConvergenceWarning: Objective did not converge. You might want to increase the number of iterations, check the scale of the features or consider increasing regularisation. Duality gap: 6.769e+01, tolerance: 9.269e-01\n",
      "  model = cd_fast.enet_coordinate_descent(\n"
     ]
    },
    {
     "name": "stdout",
     "output_type": "stream",
     "text": [
      "Best Parameters: {'alpha': 0.001}\n",
      "lasso_regression MSE: 5.473926680396496\n",
      "lasso_regression r-squared error: 0.8641003542778046\n"
     ]
    }
   ],
   "source": [
    "# Lasso Regression with GridSearchCV\n",
    "lasso = Lasso()\n",
    "parameters = {\"alpha\": [1e-15, 1e-10, 1e-8, 1e-3, 1e-1, 1, 5, 10, 20, 35, 40, 45, 50, 55, 80, 100]}\n",
    "lasso_regressor = GridSearchCV(lasso, parameters, scoring=\"neg_mean_squared_error\", cv=5)\n",
    "lasso_regressor.fit(X_train, y_train)\n",
    "\n",
    "# Get the best parameters and best score\n",
    "print(\"Best Parameters:\", lasso_regressor.best_params_)\n",
    "\n",
    "#Make predictions on the test set and Evaluate the Lasso Regression model on the test set\n",
    "lasso_predictions = lasso_regressor.predict(X_test)\n",
    "lasso_mse = mean_squared_error(y_test, lasso_predictions)\n",
    "lasso_r2 = r2_score(y_test, lasso_predictions)\n",
    "\n",
    "print(\"lasso_regression MSE:\", lasso_mse)\n",
    "print(\"lasso_regression r-squared error:\", lasso_r2)\n"
   ]
  },
  {
   "cell_type": "code",
   "execution_count": 41,
   "metadata": {},
   "outputs": [
    {
     "name": "stdout",
     "output_type": "stream",
     "text": [
      "Best Parameters: {'alpha': 0.1}\n",
      "Ridge Regression MSE on Test Set: 5.354027251459273\n",
      "Ridge Regression R-squared on Test Set: 0.8654414376299087\n"
     ]
    }
   ],
   "source": [
    "from sklearn.linear_model import Ridge\n",
    "\n",
    "# Ridge Regression with GridSearchCV\n",
    "ridge = Ridge()\n",
    "ridge_parameters = {\"alpha\": [1e-15, 1e-10, 1e-8, 1e-3, 1e-1, 1, 5, 10, 20, 35, 40, 45, 50, 55, 80, 100]}\n",
    "ridge_regressor = GridSearchCV(ridge, ridge_parameters, scoring=\"neg_mean_squared_error\", cv=5)\n",
    "ridge_regressor.fit(X_train, y_train)\n",
    "\n",
    "# Get the best parameters and best score\n",
    "print(\"Best Parameters:\", ridge_regressor.best_params_)\n",
    "\n",
    "# Make predictions on the test set and Evaluate the Ridge Regression model on the test set\n",
    "ridge_predictions = ridge_regressor.predict(X_test)\n",
    "ridge_mse = mean_squared_error(y_test, ridge_predictions)\n",
    "ridge_r2 = r2_score(y_test, ridge_predictions)\n",
    "\n",
    "print(\"Ridge Regression MSE on Test Set:\", ridge_mse)\n",
    "print(\"Ridge Regression R-squared on Test Set:\", ridge_r2)\n"
   ]
  },
  {
   "cell_type": "code",
   "execution_count": 42,
   "metadata": {},
   "outputs": [
    {
     "name": "stdout",
     "output_type": "stream",
     "text": [
      "Polynomial Regression MSE: 3.2292316684655638\n",
      "Polynomial Regression r_squared error: 0.9577124546687137\n"
     ]
    }
   ],
   "source": [
    "# Polynomial Regression\n",
    "poly_model = make_pipeline(PolynomialFeatures(degree=2), Ridge())\n",
    "poly_model.fit(X_train, y_train)\n",
    "\n",
    "# Make predictions on the test set and Model Evaluation on the test data set\n",
    "poly_predictions = poly_model.predict(X_test)\n",
    "poly_mse = mean_squared_error(y_test, poly_predictions)\n",
    "poly_r2 = r2_score(y_test, poly_predictions)\n",
    "print(f'Polynomial Regression MSE: {poly_mse}')\n",
    "print(f'Polynomial Regression r_squared error: {poly_r2}')"
   ]
  },
  {
   "cell_type": "code",
   "execution_count": 43,
   "metadata": {},
   "outputs": [
    {
     "name": "stdout",
     "output_type": "stream",
     "text": [
      "Decision Tree MSE: 3.3351533333333334\n",
      "Decision Tree r_squared error: 0.8110793067195657\n"
     ]
    }
   ],
   "source": [
    "# Decision Tree\n",
    "dt_model = DecisionTreeRegressor(random_state=42)\n",
    "dt_model.fit(X_train, y_train)\n",
    "\n",
    "# Make predictions on the test set and Model Evaluation on the test data set\n",
    "dt_predictions = dt_model.predict(X_test)\n",
    "dt_mse = mean_squared_error(y_test, dt_predictions)\n",
    "dt_r2 = r2_score(y_test, dt_predictions)\n",
    "print(f'Decision Tree MSE: {dt_mse}')\n",
    "print(f'Decision Tree r_squared error: {dt_r2}')"
   ]
  },
  {
   "cell_type": "code",
   "execution_count": 44,
   "metadata": {},
   "outputs": [
    {
     "name": "stdout",
     "output_type": "stream",
     "text": [
      "Random Forest MSE: 2.345824747111116\n",
      "Random Forest r_squared error: 0.922196752325478\n"
     ]
    }
   ],
   "source": [
    "# Random Forest\n",
    "rf_model = RandomForestRegressor(n_estimators=100, random_state=42)\n",
    "rf_model.fit(X_train, y_train)\n",
    "\n",
    "# Make predictions on the test set and Model Evaluation on the test data set\n",
    "rf_predictions = rf_model.predict(X_test)\n",
    "rf_mse = mean_squared_error(y_test, rf_predictions)\n",
    "rf_r2 = r2_score(y_test, rf_predictions)\n",
    "print(f'Random Forest MSE: {rf_mse}')\n",
    "print(f'Random Forest r_squared error: {rf_r2}')"
   ]
  },
  {
   "cell_type": "code",
   "execution_count": 49,
   "metadata": {},
   "outputs": [
    {
     "name": "stdout",
     "output_type": "stream",
     "text": [
      "XG_Boost Regression Mean Squared Error: 1.392727158336288\n",
      "XG_Boost Regression r-squared: 0.9772927209603445\n",
      "Trained XGBoost Regressor saved to xgb_model.pkl\n"
     ]
    }
   ],
   "source": [
    "import xgboost as xgb\n",
    "\n",
    "# Training the XGBoost Regressor\n",
    "xgb_regressor = xgb.XGBRegressor(objective ='reg:squarederror', random_state=42)\n",
    "xgb_regressor.fit(X_train, y_train)\n",
    "\n",
    "# Make predictions on the test data set\n",
    "y_pred_xgb = xgb_regressor.predict(X_test)\n",
    "\n",
    "# Evaluate the XG Boost Regression model on the test set\n",
    "mse_xgb = mean_squared_error(y_test, y_pred_xgb)\n",
    "r2_xgb = r2_score(y_test, y_pred_xgb)\n",
    "\n",
    "\n",
    "print(f'XG_Boost Regression Mean Squared Error: {mse_xgb}')\n",
    "print(f'XG_Boost Regression r-squared: {r2_xgb}')\n",
    "\n",
    "# Save the trained XGBoost Regressor to a pickle file\n",
    "xgb_model_filename = 'xgb_model.pkl'\n",
    "with open(xgb_model_filename, 'wb') as xgb_model_file:\n",
    "    pickle.dump(xgb_regressor, xgb_model_file)\n",
    "\n",
    "print(f'Trained XGBoost Regressor saved to {xgb_model_filename}')\n",
    "\n"
   ]
  },
  {
   "cell_type": "code",
   "execution_count": 46,
   "metadata": {},
   "outputs": [],
   "source": [
    "#Rank the models performance\n",
    "\n",
    "models_performance = {\n",
    "    'Random Forest Regressor': {'MSE': rf_mse, 'R-squared': rf_r2},\n",
    "    'Decision Tree Regressor': {'MSE': dt_mse, 'R-squared': dt_r2},\n",
    "    'Lasso Regressor':{'MSE':lasso_mse,'R-squared': lasso_r2},\n",
    "    'Ridge Regressor':{'MSE':ridge_mse,'R-squared': ridge_r2},\n",
    "    'Polynomial Regression':{'MSE':poly_mse,'R-squared': poly_r2},\n",
    "    'XG Boost Regressor':{'MSE':mse_xgb,'R-squared': r2_xgb}\n",
    "}"
   ]
  },
  {
   "cell_type": "code",
   "execution_count": 50,
   "metadata": {},
   "outputs": [
    {
     "name": "stdout",
     "output_type": "stream",
     "text": [
      "Ranked Models:\n",
      "                         R-squared  R-squared Rank\n",
      "XG Boost Regressor        0.977293             1.0\n",
      "Polynomial Regression     0.957712             2.0\n",
      "Random Forest Regressor   0.922197             3.0\n",
      "Ridge Regressor           0.865441             4.0\n",
      "Lasso Regressor           0.864100             5.0\n",
      "Decision Tree Regressor   0.811079             6.0\n"
     ]
    }
   ],
   "source": [
    "# Create a DataFrame from the dictionary\n",
    "df = pd.DataFrame(models_performance).T\n",
    "\n",
    "# Rank the models based on R-squared (higher is better)\n",
    "df['R-squared Rank'] = df['R-squared'].rank(ascending=False)\n",
    "\n",
    "# Display the ranked results\n",
    "ranked_models = df.sort_values(by='R-squared Rank')\n",
    "print(\"Ranked Models:\")\n",
    "print(ranked_models[['R-squared', 'R-squared Rank']])"
   ]
  },
  {
   "cell_type": "markdown",
   "metadata": {},
   "source": [
    "XG Boost Regressor has the highest R-squared value (0.98) and is ranked first, indicating that it provides the best fit to the data among the above listed models. The R-squared values provide a measure of how well each model explains the variance in the target variable. \n",
    "Higher R-squared values indicate better performance.  "
   ]
  },
  {
   "cell_type": "code",
   "execution_count": null,
   "metadata": {},
   "outputs": [],
   "source": []
  }
 ],
 "metadata": {
  "kernelspec": {
   "display_name": "base",
   "language": "python",
   "name": "python3"
  },
  "language_info": {
   "codemirror_mode": {
    "name": "ipython",
    "version": 3
   },
   "file_extension": ".py",
   "mimetype": "text/x-python",
   "name": "python",
   "nbconvert_exporter": "python",
   "pygments_lexer": "ipython3",
   "version": "3.11.5"
  }
 },
 "nbformat": 4,
 "nbformat_minor": 2
}
